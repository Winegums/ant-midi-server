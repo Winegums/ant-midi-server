{
 "cells": [
  {
   "cell_type": "code",
   "execution_count": null,
   "metadata": {},
   "outputs": [],
   "source": [
    "import sys\n",
    "!{sys.executable} -m pip install pandas seaborn matplotlib ipympl plotly"
   ]
  },
  {
   "cell_type": "code",
   "execution_count": null,
   "metadata": {},
   "outputs": [],
   "source": [
    "import os\n",
    "import pickle\n",
    "import pandas as pd\n",
    "import seaborn as sns\n",
    "from os import listdir\n",
    "from datetime import datetime\n",
    "import matplotlib.pyplot as plt\n",
    "from os.path import isfile, join\n",
    "import plotly.express as px"
   ]
  },
  {
   "cell_type": "code",
   "execution_count": null,
   "metadata": {},
   "outputs": [],
   "source": [
    "import warnings\n",
    "warnings.filterwarnings('ignore')"
   ]
  },
  {
   "cell_type": "code",
   "execution_count": null,
   "metadata": {},
   "outputs": [],
   "source": [
    "%matplotlib widget\n",
    "# %matplotlib notebook"
   ]
  },
  {
   "cell_type": "code",
   "execution_count": null,
   "metadata": {},
   "outputs": [],
   "source": [
    "#Function to read file\n",
    "def read_file_Dev0(filename):\n",
    "    f = open(filename)\n",
    "#     print(\"Length of Values Array\",len(values))\n",
    "    for line in f.readlines():\n",
    "        l = line.split(\"\\t\")\n",
    "        d.append(l[0][1:20])\n",
    "        t.append(l[0][12:20].replace(\":\",\"\"))\n",
    "        add = int(l[1])+int(l[2])+int(l[3])+int(l[4])+int(l[5])+int(l[6])+int(l[7])+int(l[8])+int(l[9])+int(l[10])+int(l[11])\n",
    "        values.append(add)\n",
    "def read_file_Dev1(filename):\n",
    "    f = open(filename)\n",
    "#     print(\"Length of Values Array\",len(values))\n",
    "    for line in f.readlines():\n",
    "        l = line.split(\"\\t\")\n",
    "        d.append(l[0][1:20])\n",
    "        t.append(l[0][12:20].replace(\":\",\"\"))\n",
    "        add = int(l[1])+int(l[2])+int(l[3])+int(l[4])+int(l[5])+int(l[6])\n",
    "        values.append(add)\n",
    "#Finding deltas/change in \"combined sensor\" values by the value of 10\n",
    "def all_sensor_deltas():\n",
    "    for i in range(1,len(values)-1):\n",
    "        if (abs(values[i+1]-values[i]) >9): #TODO: add input for custom delta threshold\n",
    "            delta_values.append(abs(values[i+1]-values[i]));delta_dates.append(d[i+1])"
   ]
  },
  {
   "cell_type": "code",
   "execution_count": null,
   "metadata": {},
   "outputs": [],
   "source": [
    "values = []\n",
    "d,t = ([] for i in range(2))\n",
    "delta_values = []\n",
    "delta_dates = []\n",
    "cwd = os.getcwd()\n",
    "arr = [2,3,4,5,6,8,9,10,11,12,13,14,15,16,17,18,19,20,21,22,23,24,25,26,27,28,29,31,32,33,34,35,36,37,38,39,40,41,42,43,44,45,46,47,48,49,50,]\n",
    "#############################################################\n",
    "#Selecting the Device\n",
    "while(True):\n",
    "    dev = int(input(\"Select enter 0 for Device 0 and 1 Device 1\"))\n",
    "    if(dev == 0):\n",
    "        cwd = cwd + '/dev0'\n",
    "        break\n",
    "    elif(dev == 1):\n",
    "        cwd = cwd + '/dev1'\n",
    "        break\n",
    "    else:\n",
    "        print(\"Please enter \")\n",
    "mypath = cwd\n",
    "files = [f for f in listdir(mypath) if isfile(join(mypath, f))]\n",
    "i = 0\n",
    "############################################################\n",
    "print(\"NOTE: You can select any random number to display graphs\")\n",
    "print(\"The program will read the files\")\n",
    "print(\"Please select the time period (in days) for which you want to see the combined Deltas as events\")\n",
    "check = int(input(\"Enter Value here: \"))\n",
    "for file in files:\n",
    "    if (check == 1 and i < 2):\n",
    "        if (dev == 0):\n",
    "            read_file_Dev0(cwd +'/'+file)\n",
    "        elif(dev == 1):\n",
    "            read_file_Dev1(cwd+'/'+file)\n",
    "        i += 1\n",
    "        print(\"Processed day \", i, \"out of \", check, \" days...\")\n",
    "    elif(check == 7 and i < 8):\n",
    "        if (dev == 0):\n",
    "            read_file_Dev0(cwd +'/'+file)\n",
    "        elif(dev == 1):\n",
    "            read_file_Dev1(cwd+'/'+file)\n",
    "        i +=1\n",
    "        print(\"Processed day \", i, \"out of \", check, \" days...\")\n",
    "    elif(check == 30 and i<31):\n",
    "        if (dev == 0):\n",
    "            read_file_Dev0(cwd +'/'+file)\n",
    "        elif(dev == 1):\n",
    "            read_file_Dev1(cwd+'/'+file)\n",
    "        i +=1\n",
    "        print(\"Processed day \", i, \"out of \", check, \" days...\")\n",
    "    elif((check in arr) and (i <check )):\n",
    "        if (dev == 0):\n",
    "            read_file_Dev0(cwd +'/'+file)\n",
    "        elif(dev == 1):\n",
    "            read_file_Dev1(cwd+'/'+file)\n",
    "        i +=1\n",
    "        print(\"Processed day \", i, \"out of \", check, \" days...\")\n",
    "    else:\n",
    "        pass\n",
    "# print(len(values))\n",
    "all_sensor_deltas()"
   ]
  },
  {
   "cell_type": "code",
   "execution_count": null,
   "metadata": {},
   "outputs": [],
   "source": [
    "# print(len(delta_values))\n",
    "my_dict = {'date':delta_dates,'Sensor_deltas':delta_values}\n",
    "df = pd.DataFrame(my_dict)\n",
    "df['date'] = pd.to_datetime(df['date'])\n",
    "df.to_csv(cwd + \"/Reports_of_deltas/\"+\"report.csv\")\n",
    "\n",
    "# Interactive plotly charts\n",
    "fig = px.scatter(df, x=\"date\", y=\"Sensor_deltas\", color=\"Sensor_deltas\")\n",
    "fig.show()\n",
    "fig.write_html(\"html/embed.html\")\n",
    "\n",
    "# static charts\n",
    "# plt.figure(figsize=(10,5))\n",
    "# g = sns.scatterplot(data = df,x = \"date\", y = 'Sensor_deltas',hue = 'Sensor_deltas')\n",
    "# g.set_xticklabels(rotation=15)\n",
    "# plt.show()"
   ]
  },
  {
   "cell_type": "code",
   "execution_count": null,
   "metadata": {},
   "outputs": [],
   "source": []
  }
 ],
 "metadata": {
  "kernelspec": {
   "display_name": "Python 3",
   "language": "python",
   "name": "python3"
  },
  "language_info": {
   "codemirror_mode": {
    "name": "ipython",
    "version": 3
   },
   "file_extension": ".py",
   "mimetype": "text/x-python",
   "name": "python",
   "nbconvert_exporter": "python",
   "pygments_lexer": "ipython3",
   "version": "3.9.1"
  }
 },
 "nbformat": 4,
 "nbformat_minor": 4
}
