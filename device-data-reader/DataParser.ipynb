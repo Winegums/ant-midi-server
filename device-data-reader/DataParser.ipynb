{
 "cells": [
  {
   "cell_type": "code",
   "execution_count": 9,
   "metadata": {},
   "outputs": [
    {
     "name": "stdout",
     "output_type": "stream",
     "text": [
      "Requirement already satisfied: pandas in /usr/local/Cellar/jupyterlab/3.0.5/libexec/lib/python3.9/site-packages (1.2.1)\n",
      "Requirement already satisfied: seaborn in /usr/local/Cellar/jupyterlab/3.0.5/libexec/lib/python3.9/site-packages (0.11.1)\n",
      "Requirement already satisfied: matplotlib in /usr/local/Cellar/jupyterlab/3.0.5/libexec/lib/python3.9/site-packages (3.3.3)\n",
      "Collecting ipympl\n",
      "  Downloading ipympl-0.6.3-py2.py3-none-any.whl (105 kB)\n",
      "\u001b[K     |████████████████████████████████| 105 kB 3.5 MB/s eta 0:00:01\n",
      "\u001b[?25hRequirement already satisfied: ipykernel>=4.7 in /usr/local/Cellar/jupyterlab/3.0.5/libexec/lib/python3.9/site-packages (from ipympl) (5.4.3)\n",
      "Requirement already satisfied: cycler>=0.10 in /usr/local/Cellar/jupyterlab/3.0.5/libexec/lib/python3.9/site-packages (from matplotlib) (0.10.0)\n",
      "Requirement already satisfied: pyparsing!=2.0.4,!=2.1.2,!=2.1.6,>=2.0.3 in /usr/local/Cellar/jupyterlab/3.0.5/libexec/lib/python3.9/site-packages (from matplotlib) (2.4.7)\n",
      "Requirement already satisfied: kiwisolver>=1.0.1 in /usr/local/Cellar/jupyterlab/3.0.5/libexec/lib/python3.9/site-packages (from matplotlib) (1.3.1)\n",
      "Requirement already satisfied: numpy>=1.15 in /usr/local/Cellar/jupyterlab/3.0.5/libexec/lib/python3.9/site-packages (from matplotlib) (1.19.5)\n",
      "Requirement already satisfied: python-dateutil>=2.1 in /usr/local/Cellar/jupyterlab/3.0.5/libexec/lib/python3.9/site-packages (from matplotlib) (2.8.1)\n",
      "Requirement already satisfied: pillow>=6.2.0 in /usr/local/Cellar/jupyterlab/3.0.5/libexec/lib/python3.9/site-packages (from matplotlib) (8.1.0)\n",
      "Requirement already satisfied: six in /usr/local/Cellar/jupyterlab/3.0.5/libexec/lib/python3.9/site-packages (from cycler>=0.10->matplotlib) (1.15.0)\n",
      "Requirement already satisfied: traitlets>=4.1.0 in /usr/local/Cellar/jupyterlab/3.0.5/libexec/lib/python3.9/site-packages (from ipykernel>=4.7->ipympl) (5.0.5)\n",
      "Requirement already satisfied: ipython>=5.0.0 in /usr/local/Cellar/jupyterlab/3.0.5/libexec/lib/python3.9/site-packages (from ipykernel>=4.7->ipympl) (7.19.0)\n",
      "Requirement already satisfied: appnope in /usr/local/Cellar/jupyterlab/3.0.5/libexec/lib/python3.9/site-packages (from ipykernel>=4.7->ipympl) (0.1.2)\n",
      "Requirement already satisfied: jupyter-client in /usr/local/Cellar/jupyterlab/3.0.5/libexec/lib/python3.9/site-packages (from ipykernel>=4.7->ipympl) (6.1.11)\n",
      "Requirement already satisfied: tornado>=4.2 in /usr/local/Cellar/jupyterlab/3.0.5/libexec/lib/python3.9/site-packages (from ipykernel>=4.7->ipympl) (6.1)\n",
      "Requirement already satisfied: setuptools>=18.5 in /usr/local/Cellar/jupyterlab/3.0.5/libexec/lib/python3.9/site-packages (from ipython>=5.0.0->ipykernel>=4.7->ipympl) (51.1.1)\n",
      "Requirement already satisfied: jedi>=0.10 in /usr/local/Cellar/jupyterlab/3.0.5/libexec/lib/python3.9/site-packages (from ipython>=5.0.0->ipykernel>=4.7->ipympl) (0.18.0)\n",
      "Requirement already satisfied: decorator in /usr/local/Cellar/jupyterlab/3.0.5/libexec/lib/python3.9/site-packages (from ipython>=5.0.0->ipykernel>=4.7->ipympl) (4.4.2)\n",
      "Requirement already satisfied: pickleshare in /usr/local/Cellar/jupyterlab/3.0.5/libexec/lib/python3.9/site-packages (from ipython>=5.0.0->ipykernel>=4.7->ipympl) (0.7.5)\n",
      "Requirement already satisfied: prompt_toolkit!=3.0.0,!=3.0.1,<3.1.0,>=2.0.0 in /usr/local/Cellar/jupyterlab/3.0.5/libexec/lib/python3.9/site-packages (from ipython>=5.0.0->ipykernel>=4.7->ipympl) (3.0.10)\n",
      "Requirement already satisfied: pygments in /usr/local/Cellar/jupyterlab/3.0.5/libexec/lib/python3.9/site-packages (from ipython>=5.0.0->ipykernel>=4.7->ipympl) (2.7.4)\n",
      "Requirement already satisfied: backcall in /usr/local/Cellar/jupyterlab/3.0.5/libexec/lib/python3.9/site-packages (from ipython>=5.0.0->ipykernel>=4.7->ipympl) (0.2.0)\n",
      "Requirement already satisfied: pexpect>4.3 in /usr/local/Cellar/jupyterlab/3.0.5/libexec/lib/python3.9/site-packages (from ipython>=5.0.0->ipykernel>=4.7->ipympl) (4.8.0)\n",
      "Collecting ipywidgets>=7.6.0\n",
      "  Downloading ipywidgets-7.6.3-py2.py3-none-any.whl (121 kB)\n",
      "\u001b[K     |████████████████████████████████| 121 kB 7.4 MB/s eta 0:00:01\n",
      "\u001b[?25hRequirement already satisfied: nbformat>=4.2.0 in /usr/local/Cellar/jupyterlab/3.0.5/libexec/lib/python3.9/site-packages (from ipywidgets>=7.6.0->ipympl) (5.1.2)\n",
      "Requirement already satisfied: parso<0.9.0,>=0.8.0 in /usr/local/Cellar/jupyterlab/3.0.5/libexec/lib/python3.9/site-packages (from jedi>=0.10->ipython>=5.0.0->ipykernel>=4.7->ipympl) (0.8.1)\n",
      "Collecting jupyterlab-widgets>=1.0.0\n",
      "  Downloading jupyterlab_widgets-1.0.0-py3-none-any.whl (243 kB)\n",
      "\u001b[K     |████████████████████████████████| 243 kB 5.4 MB/s eta 0:00:01\n",
      "\u001b[?25hRequirement already satisfied: ipython_genutils in /usr/local/Cellar/jupyterlab/3.0.5/libexec/lib/python3.9/site-packages (from nbformat>=4.2.0->ipywidgets>=7.6.0->ipympl) (0.2.0)\n",
      "Requirement already satisfied: jsonschema!=2.5.0,>=2.4 in /usr/local/Cellar/jupyterlab/3.0.5/libexec/lib/python3.9/site-packages (from nbformat>=4.2.0->ipywidgets>=7.6.0->ipympl) (3.2.0)\n",
      "Requirement already satisfied: jupyter_core in /usr/local/Cellar/jupyterlab/3.0.5/libexec/lib/python3.9/site-packages (from nbformat>=4.2.0->ipywidgets>=7.6.0->ipympl) (4.7.0)\n",
      "Requirement already satisfied: attrs>=17.4.0 in /usr/local/Cellar/jupyterlab/3.0.5/libexec/lib/python3.9/site-packages (from jsonschema!=2.5.0,>=2.4->nbformat>=4.2.0->ipywidgets>=7.6.0->ipympl) (20.3.0)\n",
      "Requirement already satisfied: pyrsistent>=0.14.0 in /usr/local/Cellar/jupyterlab/3.0.5/libexec/lib/python3.9/site-packages (from jsonschema!=2.5.0,>=2.4->nbformat>=4.2.0->ipywidgets>=7.6.0->ipympl) (0.17.3)\n",
      "Requirement already satisfied: ptyprocess>=0.5 in /usr/local/Cellar/jupyterlab/3.0.5/libexec/lib/python3.9/site-packages (from pexpect>4.3->ipython>=5.0.0->ipykernel>=4.7->ipympl) (0.7.0)\n",
      "Requirement already satisfied: wcwidth in /usr/local/Cellar/jupyterlab/3.0.5/libexec/lib/python3.9/site-packages (from prompt_toolkit!=3.0.0,!=3.0.1,<3.1.0,>=2.0.0->ipython>=5.0.0->ipykernel>=4.7->ipympl) (0.2.5)\n",
      "Collecting widgetsnbextension~=3.5.0\n",
      "  Using cached widgetsnbextension-3.5.1-py2.py3-none-any.whl (2.2 MB)\n",
      "Requirement already satisfied: notebook>=4.4.1 in /usr/local/Cellar/jupyterlab/3.0.5/libexec/lib/python3.9/site-packages (from widgetsnbextension~=3.5.0->ipywidgets>=7.6.0->ipympl) (6.2.0)\n",
      "Requirement already satisfied: jinja2 in /usr/local/Cellar/jupyterlab/3.0.5/libexec/lib/python3.9/site-packages (from notebook>=4.4.1->widgetsnbextension~=3.5.0->ipywidgets>=7.6.0->ipympl) (2.11.2)\n",
      "Requirement already satisfied: pyzmq>=17 in /usr/local/Cellar/jupyterlab/3.0.5/libexec/lib/python3.9/site-packages (from notebook>=4.4.1->widgetsnbextension~=3.5.0->ipywidgets>=7.6.0->ipympl) (21.0.0)\n",
      "Requirement already satisfied: argon2-cffi in /usr/local/Cellar/jupyterlab/3.0.5/libexec/lib/python3.9/site-packages (from notebook>=4.4.1->widgetsnbextension~=3.5.0->ipywidgets>=7.6.0->ipympl) (20.1.0)\n",
      "Requirement already satisfied: nbconvert in /usr/local/Cellar/jupyterlab/3.0.5/libexec/lib/python3.9/site-packages (from notebook>=4.4.1->widgetsnbextension~=3.5.0->ipywidgets>=7.6.0->ipympl) (6.0.7)\n",
      "Requirement already satisfied: Send2Trash>=1.5.0 in /usr/local/Cellar/jupyterlab/3.0.5/libexec/lib/python3.9/site-packages (from notebook>=4.4.1->widgetsnbextension~=3.5.0->ipywidgets>=7.6.0->ipympl) (1.5.0)\n",
      "Requirement already satisfied: terminado>=0.8.3 in /usr/local/Cellar/jupyterlab/3.0.5/libexec/lib/python3.9/site-packages (from notebook>=4.4.1->widgetsnbextension~=3.5.0->ipywidgets>=7.6.0->ipympl) (0.9.2)\n",
      "Requirement already satisfied: prometheus_client in /usr/local/Cellar/jupyterlab/3.0.5/libexec/lib/python3.9/site-packages (from notebook>=4.4.1->widgetsnbextension~=3.5.0->ipywidgets>=7.6.0->ipympl) (0.9.0)\n",
      "Requirement already satisfied: pytz>=2017.3 in /usr/local/Cellar/jupyterlab/3.0.5/libexec/lib/python3.9/site-packages (from pandas) (2020.5)\n",
      "Requirement already satisfied: scipy>=1.0 in /usr/local/Cellar/jupyterlab/3.0.5/libexec/lib/python3.9/site-packages (from seaborn) (1.6.0)\n",
      "Requirement already satisfied: cffi>=1.0.0 in /usr/local/Cellar/jupyterlab/3.0.5/libexec/lib/python3.9/site-packages (from argon2-cffi->notebook>=4.4.1->widgetsnbextension~=3.5.0->ipywidgets>=7.6.0->ipympl) (1.14.4)\n",
      "Requirement already satisfied: pycparser in /usr/local/Cellar/jupyterlab/3.0.5/libexec/lib/python3.9/site-packages (from cffi>=1.0.0->argon2-cffi->notebook>=4.4.1->widgetsnbextension~=3.5.0->ipywidgets>=7.6.0->ipympl) (2.20)\n",
      "Requirement already satisfied: MarkupSafe>=0.23 in /usr/local/Cellar/jupyterlab/3.0.5/libexec/lib/python3.9/site-packages (from jinja2->notebook>=4.4.1->widgetsnbextension~=3.5.0->ipywidgets>=7.6.0->ipympl) (1.1.1)\n"
     ]
    },
    {
     "name": "stdout",
     "output_type": "stream",
     "text": [
      "Requirement already satisfied: mistune<2,>=0.8.1 in /usr/local/Cellar/jupyterlab/3.0.5/libexec/lib/python3.9/site-packages (from nbconvert->notebook>=4.4.1->widgetsnbextension~=3.5.0->ipywidgets>=7.6.0->ipympl) (0.8.4)\n",
      "Requirement already satisfied: jupyterlab_pygments in /usr/local/Cellar/jupyterlab/3.0.5/libexec/lib/python3.9/site-packages (from nbconvert->notebook>=4.4.1->widgetsnbextension~=3.5.0->ipywidgets>=7.6.0->ipympl) (0.1.2)\n",
      "Requirement already satisfied: entrypoints>=0.2.2 in /usr/local/Cellar/jupyterlab/3.0.5/libexec/lib/python3.9/site-packages (from nbconvert->notebook>=4.4.1->widgetsnbextension~=3.5.0->ipywidgets>=7.6.0->ipympl) (0.3)\n",
      "Requirement already satisfied: bleach in /usr/local/Cellar/jupyterlab/3.0.5/libexec/lib/python3.9/site-packages (from nbconvert->notebook>=4.4.1->widgetsnbextension~=3.5.0->ipywidgets>=7.6.0->ipympl) (3.2.1)\n",
      "Requirement already satisfied: pandocfilters>=1.4.1 in /usr/local/Cellar/jupyterlab/3.0.5/libexec/lib/python3.9/site-packages (from nbconvert->notebook>=4.4.1->widgetsnbextension~=3.5.0->ipywidgets>=7.6.0->ipympl) (1.4.3)\n",
      "Requirement already satisfied: testpath in /usr/local/Cellar/jupyterlab/3.0.5/libexec/lib/python3.9/site-packages (from nbconvert->notebook>=4.4.1->widgetsnbextension~=3.5.0->ipywidgets>=7.6.0->ipympl) (0.4.4)\n",
      "Requirement already satisfied: defusedxml in /usr/local/Cellar/jupyterlab/3.0.5/libexec/lib/python3.9/site-packages (from nbconvert->notebook>=4.4.1->widgetsnbextension~=3.5.0->ipywidgets>=7.6.0->ipympl) (0.6.0)\n",
      "Requirement already satisfied: nbclient<0.6.0,>=0.5.0 in /usr/local/Cellar/jupyterlab/3.0.5/libexec/lib/python3.9/site-packages (from nbconvert->notebook>=4.4.1->widgetsnbextension~=3.5.0->ipywidgets>=7.6.0->ipympl) (0.5.1)\n",
      "Requirement already satisfied: async-generator in /usr/local/Cellar/jupyterlab/3.0.5/libexec/lib/python3.9/site-packages (from nbclient<0.6.0,>=0.5.0->nbconvert->notebook>=4.4.1->widgetsnbextension~=3.5.0->ipywidgets>=7.6.0->ipympl) (1.10)\n",
      "Requirement already satisfied: nest-asyncio in /usr/local/Cellar/jupyterlab/3.0.5/libexec/lib/python3.9/site-packages (from nbclient<0.6.0,>=0.5.0->nbconvert->notebook>=4.4.1->widgetsnbextension~=3.5.0->ipywidgets>=7.6.0->ipympl) (1.4.3)\n",
      "Requirement already satisfied: packaging in /usr/local/Cellar/jupyterlab/3.0.5/libexec/lib/python3.9/site-packages (from bleach->nbconvert->notebook>=4.4.1->widgetsnbextension~=3.5.0->ipywidgets>=7.6.0->ipympl) (20.8)\n",
      "Requirement already satisfied: webencodings in /usr/local/Cellar/jupyterlab/3.0.5/libexec/lib/python3.9/site-packages (from bleach->nbconvert->notebook>=4.4.1->widgetsnbextension~=3.5.0->ipywidgets>=7.6.0->ipympl) (0.5.1)\n",
      "Installing collected packages: widgetsnbextension, jupyterlab-widgets, ipywidgets, ipympl\n",
      "Successfully installed ipympl-0.6.3 ipywidgets-7.6.3 jupyterlab-widgets-1.0.0 widgetsnbextension-3.5.1\n"
     ]
    }
   ],
   "source": [
    "import sys\n",
    "!{sys.executable} -m pip install pandas seaborn matplotlib ipympl"
   ]
  },
  {
   "cell_type": "code",
   "execution_count": 10,
   "metadata": {},
   "outputs": [],
   "source": [
    "import os\n",
    "import pickle\n",
    "import pandas as pd\n",
    "import seaborn as sns\n",
    "from os import listdir\n",
    "from datetime import datetime\n",
    "import matplotlib.pyplot as plt\n",
    "from os.path import isfile, join"
   ]
  },
  {
   "cell_type": "code",
   "execution_count": 11,
   "metadata": {},
   "outputs": [],
   "source": [
    "import warnings\n",
    "warnings.filterwarnings('ignore')"
   ]
  },
  {
   "cell_type": "code",
   "execution_count": 12,
   "metadata": {},
   "outputs": [],
   "source": [
    "%matplotlib widget\n",
    "# %matplotlib notebook"
   ]
  },
  {
   "cell_type": "code",
   "execution_count": 13,
   "metadata": {},
   "outputs": [],
   "source": [
    "#Function to read file\n",
    "def read_file_Dev0(filename):\n",
    "    f = open(filename)\n",
    "#     print(\"Length of Values Array\",len(values))\n",
    "    for line in f.readlines():\n",
    "        l = line.split(\"\\t\")\n",
    "        d.append(l[0][1:20])\n",
    "        t.append(l[0][12:20].replace(\":\",\"\"))\n",
    "        add = int(l[1])+int(l[2])+int(l[3])+int(l[4])+int(l[5])+int(l[6])+int(l[7])+int(l[8])+int(l[9])+int(l[10])+int(l[11])\n",
    "        values.append(add)\n",
    "def read_file_Dev1(filename):\n",
    "    f = open(filename)\n",
    "#     print(\"Length of Values Array\",len(values))\n",
    "    for line in f.readlines():\n",
    "        l = line.split(\"\\t\")\n",
    "        d.append(l[0][1:20])\n",
    "        t.append(l[0][12:20].replace(\":\",\"\"))\n",
    "        add = int(l[1])+int(l[2])+int(l[3])+int(l[4])+int(l[5])+int(l[6])\n",
    "        values.append(add)\n",
    "#Finding deltas/change in \"combined sensor\" values by the value of 10\n",
    "def all_sensor_deltas():\n",
    "    for i in range(1,len(values)-1):\n",
    "        if (abs(values[i+1]-values[i]) >9): #TODO: add input for custom delta threshold\n",
    "            delta_values.append(abs(values[i+1]-values[i]));delta_dates.append(d[i+1])"
   ]
  },
  {
   "cell_type": "code",
   "execution_count": 18,
   "metadata": {},
   "outputs": [
    {
     "name": "stdout",
     "output_type": "stream",
     "text": [
      "Select enter 0 for Device 0 and 1 Device 10\n",
      "NOTE: You can select any random number to display graphs\n",
      "The program will read the files\n",
      "Please select the time period (in days) for which you want to see the combined Deltas as events\n",
      "Enter Value here: 9\n",
      "Processed day  1 out of  9  days...\n",
      "Processed day  2 out of  9  days...\n",
      "Processed day  3 out of  9  days...\n",
      "Processed day  4 out of  9  days...\n",
      "Processed day  5 out of  9  days...\n",
      "Processed day  6 out of  9  days...\n",
      "Processed day  7 out of  9  days...\n",
      "Processed day  8 out of  9  days...\n",
      "Processed day  9 out of  9  days...\n"
     ]
    }
   ],
   "source": [
    "values = []\n",
    "d,t = ([] for i in range(2))\n",
    "delta_values = []\n",
    "delta_dates = []\n",
    "cwd = os.getcwd()\n",
    "arr = [2,3,4,5,6,8,9,10,11,12,13,14,15,16,17,18,19,20,21,22,23,24,25,26,27,28,29,31,32,33,34,35,36,37,38,39,40,41,42,43,44,45,46,47,48,49,50,]\n",
    "#############################################################\n",
    "#Selecting the Device\n",
    "while(True):\n",
    "    dev = int(input(\"Select enter 0 for Device 0 and 1 Device 1\"))\n",
    "    if(dev == 0):\n",
    "        cwd = cwd + '/dev0'\n",
    "        break\n",
    "    elif(dev == 1):\n",
    "        cwd = cwd + '/dev1'\n",
    "        break\n",
    "    else:\n",
    "        print(\"Please enter \")\n",
    "mypath = cwd\n",
    "files = [f for f in listdir(mypath) if isfile(join(mypath, f))]\n",
    "i = 0\n",
    "############################################################\n",
    "print(\"NOTE: You can select any random number to display graphs\")\n",
    "print(\"The program will read the files\")\n",
    "print(\"Please select the time period (in days) for which you want to see the combined Deltas as events\")\n",
    "check = int(input(\"Enter Value here: \"))\n",
    "for file in files:\n",
    "    if (check == 1 and i < 2):\n",
    "        if (dev == 0):\n",
    "            read_file_Dev0(cwd +'/'+file)\n",
    "        elif(dev == 1):\n",
    "            read_file_Dev1(cwd+'/'+file)\n",
    "        i += 1\n",
    "        print(\"Processed day \", i, \"out of \", check, \" days...\")\n",
    "    elif(check == 7 and i < 8):\n",
    "        if (dev == 0):\n",
    "            read_file_Dev0(cwd +'/'+file)\n",
    "        elif(dev == 1):\n",
    "            read_file_Dev1(cwd+'/'+file)\n",
    "        i +=1\n",
    "        print(\"Processed day \", i, \"out of \", check, \" days...\")\n",
    "    elif(check == 30 and i<31):\n",
    "        if (dev == 0):\n",
    "            read_file_Dev0(cwd +'/'+file)\n",
    "        elif(dev == 1):\n",
    "            read_file_Dev1(cwd+'/'+file)\n",
    "        i +=1\n",
    "        print(\"Processed day \", i, \"out of \", check, \" days...\")\n",
    "    elif((check in arr) and (i <check )):\n",
    "        if (dev == 0):\n",
    "            read_file_Dev0(cwd +'/'+file)\n",
    "        elif(dev == 1):\n",
    "            read_file_Dev1(cwd+'/'+file)\n",
    "        i +=1\n",
    "        print(\"Processed day \", i, \"out of \", check, \" days...\")\n",
    "    else:\n",
    "        pass\n",
    "# print(len(values))\n",
    "all_sensor_deltas()"
   ]
  },
  {
   "cell_type": "code",
   "execution_count": 19,
   "metadata": {},
   "outputs": [
    {
     "data": {
      "application/vnd.jupyter.widget-view+json": {
       "model_id": "24b2ab254f204d47bf65beaf694a1429",
       "version_major": 2,
       "version_minor": 0
      },
      "text/plain": [
       "Canvas(toolbar=Toolbar(toolitems=[('Home', 'Reset original view', 'home', 'home'), ('Back', 'Back to previous …"
      ]
     },
     "metadata": {},
     "output_type": "display_data"
    }
   ],
   "source": [
    "# print(len(delta_values))\n",
    "my_dict = {'date':delta_dates,'Sensor_deltas':delta_values}\n",
    "df = pd.DataFrame(my_dict)\n",
    "df['date'] = pd.to_datetime(df['date'])\n",
    "df.to_csv(cwd + \"/Reports_of_deltas/\"+\"report.csv\")\n",
    "plt.figure(figsize=(10,5))\n",
    "g = sns.scatterplot(data = df,x = \"date\", y = 'Sensor_deltas',hue = 'Sensor_deltas')\n",
    "# g.set_xticklabels(rotation=15)\n",
    "plt.show()"
   ]
  },
  {
   "cell_type": "code",
   "execution_count": null,
   "metadata": {},
   "outputs": [],
   "source": []
  }
 ],
 "metadata": {
  "kernelspec": {
   "display_name": "Python 3",
   "language": "python",
   "name": "python3"
  },
  "language_info": {
   "codemirror_mode": {
    "name": "ipython",
    "version": 3
   },
   "file_extension": ".py",
   "mimetype": "text/x-python",
   "name": "python",
   "nbconvert_exporter": "python",
   "pygments_lexer": "ipython3",
   "version": "3.9.1"
  }
 },
 "nbformat": 4,
 "nbformat_minor": 4
}
